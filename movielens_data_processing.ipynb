{
 "cells": [
  {
   "cell_type": "code",
   "execution_count": 2,
   "metadata": {},
   "outputs": [],
   "source": [
    "import ast\n",
    "\n",
    "def extract_3_main_actors(string):\n",
    "    try:\n",
    "        cast = ast.literal_eval(string)\n",
    "    except ValueError:\n",
    "        return []\n",
    "\n",
    "    if len(cast) >= 3:\n",
    "        return [(item['character'], item['name']) for item in cast[:3]]\n",
    "    else:\n",
    "        return [(item['character'], item['name']) for item in cast]\n",
    "\n",
    "\n",
    "def extract_director(string):\n",
    "    try:\n",
    "        crew = ast.literal_eval(string)\n",
    "    except ValueError:\n",
    "        return ''\n",
    "\n",
    "    for i in crew:\n",
    "        if i['job'] == 'Director':\n",
    "            return i['name']\n",
    "    return ''"
   ]
  },
  {
   "cell_type": "code",
   "execution_count": null,
   "metadata": {},
   "outputs": [],
   "source": [
    "# This script requires movies_metadata.csv, credits.csv and links.csv file.\n",
    "# These files were processed in this script and matched with existing columns\n",
    "# They were downloaded from https://www.kaggle.com/datasets/rounakbanik/the-movies-dataset and are not included in the repository\n",
    "\n",
    "# Step 1: filtering the links to include only the ones we include in the movies dataset\n",
    "\n",
    "import numpy as np\n",
    "import pandas as pd\n",
    "import os\n",
    "\n",
    "ROOT = os.path.join(\"Recommender\", \"data\", \"ml-25m\")\n",
    "\n",
    "movies = pd.read_csv(os.path.join(ROOT, \"movies.csv\")).rename(columns={\"movieId\": \"movie_id\"})\n",
    "links = pd.read_csv(os.path.join(ROOT, \"links.csv\")).rename(columns={\"movieId\": \"movie_id\"})\n",
    "\n",
    "merged = pd.merge(movies, links, on=\"movie_id\", how=\"left\")\n",
    "\n",
    "print(merged.head())\n",
    "\n",
    "merged.tmdbId = merged.tmdbId.fillna(-1)\n",
    "\n",
    "links_filtered = merged[[\"movie_id\", \"tmdbId\"]]\n",
    "\n",
    "links_filtered[\"tmdbId\"] = links_filtered.tmdbId.astype(np.int64)\n",
    "\n",
    "links_filtered.to_csv(os.path.join(ROOT, \"links_filtered.csv\"), index=False)"
   ]
  },
  {
   "cell_type": "code",
   "execution_count": null,
   "metadata": {},
   "outputs": [],
   "source": [
    "# Step 2: Filter the credits to include only the movies we need\n",
    "\n",
    "links = pd.read_csv(os.path.join(ROOT, \"links_filtered.csv\"))\n",
    "credits = pd.read_csv(os.path.join(ROOT, \"credits.csv\")).rename(columns={\"id\": \"tmdbId\"})\n",
    "\n",
    "merged = pd.merge(links, credits, on='tmdbId', how='left')\n",
    "\n",
    "print(merged.head())\n",
    "print(merged.cast.head())\n",
    "\n",
    "merged.to_csv(os.path.join(ROOT, \"credits_filtered.csv\"), index=False)"
   ]
  },
  {
   "cell_type": "code",
   "execution_count": null,
   "metadata": {},
   "outputs": [],
   "source": [
    "# Step 3: Extract cast and director from credits csv\n",
    "\n",
    "credits = pd.read_csv(os.path.join(ROOT, \"credits_filtered.csv\"))\n",
    "\n",
    "credits.cast = credits.cast.apply(extract_3_main_actors)\n",
    "\n",
    "credits.crew = credits.crew.apply(extract_director)\n",
    "\n",
    "credits = credits.rename(columns={\"crew\": \"director\"})\n",
    "\n",
    "credits.to_csv(os.path.join(ROOT, \"credits_filtered.csv\"), index=False)"
   ]
  },
  {
   "cell_type": "code",
   "execution_count": null,
   "metadata": {},
   "outputs": [],
   "source": [
    "# Step 4 Filter metadata to include only movies/fields\n",
    "\n",
    "metadata = pd.read_csv(os.path.join(ROOT, \"movies_metadata.csv\"), usecols=[\"id\", \"overview\", \"poster_path\"])\n",
    "links = pd.read_csv(os.path.join(ROOT, \"links_filtered.csv\"))\n",
    "\n",
    "print(metadata.shape)\n",
    "\n",
    "metadata = metadata.rename(columns={\"id\": \"tmdbId\", \"overview\":\"synopsis\", \"poster_path\":\"poster\"})\n",
    "metadata = metadata[[\"poster\", \"tmdbId\", \"synopsis\"]]\n",
    "\n",
    "metadata.tmdbId = metadata.tmdbId[metadata.tmdbId.str.isnumeric()]\n",
    "metadata.tmdbId = metadata.tmdbId.fillna(-1)\n",
    "\n",
    "metadata[\"tmdbId\"] = metadata.tmdbId.astype(np.int64)\n",
    "\n",
    "merged = pd.merge(links, metadata, on='tmdbId', how='left')\n",
    "\n",
    "print(merged.shape)\n",
    "print(merged.head())\n",
    "\n",
    "merged.to_csv(os.path.join(ROOT, \"metadata_filtered.csv\"), index=False)"
   ]
  },
  {
   "cell_type": "code",
   "execution_count": null,
   "metadata": {},
   "outputs": [],
   "source": [
    "# Step 5 Merging movies with metadata\n",
    "\n",
    "metadata = pd.read_csv(os.path.join(ROOT, \"metadata_filtered.csv\"))\n",
    "credits = pd.read_csv(os.path.join(ROOT, \"credits_filtered.csv\"))\n",
    "movies = pd.read_csv(os.path.join(ROOT, \"movies.csv\"))\n",
    "\n",
    "merged = pd.merge(movies, credits, on='movie_id', how='left')\n",
    "merged = merged.drop(columns=[\"tmdbId\"])\n",
    "movies1 = pd.merge(merged, metadata, on='movie_id', how='left')\n",
    "movies1 = movies1.drop(columns=[\"tmdbId\", \"Unnamed: 0\"])\n",
    "movies1 = movies1.rename(columns={\"cast\": \"actors\"})\n",
    "\n",
    "movies1['year'] = movies1['title'].str[-5:-1]\n",
    "movies1.title = movies1.title.str[:-7]\n",
    "\n",
    "movies1 = movies1[[\"movie_id\", \"title\", \"director\", \"actors\", \"synopsis\", \"genres\", \"poster\", \"year\"]]\n",
    "\n",
    "movies1.to_csv(os.path.join(ROOT, \"movies_ext.csv\"), index=False)"
   ]
  },
  {
   "cell_type": "code",
   "execution_count": null,
   "metadata": {},
   "outputs": [],
   "source": [
    "# Step 6 Aligning the posters of movies_ext.csv\n",
    "\n",
    "posters = pd.read_csv(os.path.join(ROOT, \"metadata_filtered.csv\"), usecols=[\"movie_id\", \"poster\"])\n",
    "movies = pd.read_csv(os.path.join(ROOT, \"movies_ext.csv\"))\n",
    " \n",
    "merged = pd.merge(movies, posters, on='movie_id', how='left')\n",
    "merged[\"poster\"] = merged[\"poster_y\"]\n",
    "merged = merged[[\"movie_id\", \"title\", \"director\", \"actors\", \"synopsis\", \"genres\", \"poster\", \"year\"]]\n",
    " \n",
    "merged = merged.drop_duplicates(subset=['movie_id'])\n",
    " \n",
    "merged.to_csv(os.path.join(ROOT, \"movies_ext.csv\"), index=False)"
   ]
  }
 ],
 "metadata": {
  "kernelspec": {
   "display_name": "recommender",
   "language": "python",
   "name": "python3"
  },
  "language_info": {
   "codemirror_mode": {
    "name": "ipython",
    "version": 3
   },
   "file_extension": ".py",
   "mimetype": "text/x-python",
   "name": "python",
   "nbconvert_exporter": "python",
   "pygments_lexer": "ipython3",
   "version": "3.12.3"
  }
 },
 "nbformat": 4,
 "nbformat_minor": 2
}
